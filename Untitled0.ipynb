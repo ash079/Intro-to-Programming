{
  "nbformat": 4,
  "nbformat_minor": 0,
  "metadata": {
    "colab": {
      "provenance": [],
      "authorship_tag": "ABX9TyP51LbsxI3jCbHS4LS+N5h0",
      "include_colab_link": true
    },
    "kernelspec": {
      "name": "python3",
      "display_name": "Python 3"
    },
    "language_info": {
      "name": "python"
    }
  },
  "cells": [
    {
      "cell_type": "markdown",
      "metadata": {
        "id": "view-in-github",
        "colab_type": "text"
      },
      "source": [
        "<a href=\"https://colab.research.google.com/github/ash079/Intro-to-Programming/blob/main/Untitled0.ipynb\" target=\"_parent\"><img src=\"https://colab.research.google.com/assets/colab-badge.svg\" alt=\"Open In Colab\"/></a>"
      ]
    },
    {
      "cell_type": "code",
      "execution_count": null,
      "metadata": {
        "colab": {
          "base_uri": "https://localhost:8080/",
          "height": 472
        },
        "id": "i4zYp6ypBoJ9",
        "outputId": "4a917340-e9b4-4210-8235-8f11621b1edd"
      },
      "outputs": [
        {
          "output_type": "display_data",
          "data": {
            "text/plain": [
              "<Figure size 640x480 with 1 Axes>"
            ],
            "image/png": "[encoded data removed]"
          },
          "metadata": {}
        }
      ],
      "source": [
        "import numpy as np\n",
        "import matplotlib.pyplot as plt\n",
        "\n",
        "# Define image dimensions\n",
        "image_width = 11\n",
        "image_height = 11\n",
        "\n",
        "# Define the binary representation of the heart shape (0 for black, 1 for white)\n",
        "heart_shape = [\n",
        "    [0, 0, 0, 1, 0, 0, 0, 1, 0, 0, 0],\n",
        "    [0, 0, 1, 1, 1, 0, 1, 1, 1, 0, 0],\n",
        "    [0, 1, 1, 1, 1, 1, 1, 1, 1, 1, 0],\n",
        "    [1, 1, 1, 1, 1, 1, 1, 1, 1, 1, 1],\n",
        "    [1, 1, 1, 1, 1, 1, 1, 1, 1, 1, 1],\n",
        "    [1, 1, 1, 1, 1, 1, 1, 1, 1, 1, 1],\n",
        "    [1, 1, 1, 1, 1, 1, 1, 1, 1, 1, 1],\n",
        "    [0, 1, 1, 1, 1, 1, 1, 1, 1, 1, 0],\n",
        "    [0, 0, 1, 1, 1, 1, 1, 1, 1, 0, 0],\n",
        "    [0, 0, 0, 1, 1, 1, 1, 1, 0, 0, 0],\n",
        "    [0, 0, 0, 0, 1, 1, 1, 0, 0, 0, 0]\n",
        "]\n",
        "\n",
        "# Convert the binary list to a numpy array\n",
        "heart_shape = np.array(heart_shape)\n",
        "\n",
        "# Display the image with each grid cell as a pixel\n",
        "plt.imshow(heart_shape, cmap='binary', interpolation='none')\n",
        "plt.xticks(np.arange(0, image_width))\n",
        "plt.yticks(np.arange(0, image_height))\n",
        "plt.xlabel('Column')\n",
        "plt.ylabel('Row')\n",
        "plt.title('Heart Shape')\n",
        "plt.grid(True, color='black', linewidth=0.5)  # Add grid lines to represent pixels\n",
        "\n",
        "# Save the figure\n",
        "plt.savefig('heart_shape.png')\n",
        "\n",
        "# Show the plot\n",
        "plt.show()\n"
      ]
    },
    {
      "cell_type": "code",
      "source": [],
      "metadata": {
        "id": "hZEb33vLpw3U"
      },
      "execution_count": null,
      "outputs": []
    },
    {
      "cell_type": "code",
      "source": [
        "from google.colab import drive\n",
        "drive.mount('/content/drive')"
      ],
      "metadata": {
        "id": "qE45p2emDpPI"
      },
      "execution_count": null,
      "outputs": []
    }
  ]
}